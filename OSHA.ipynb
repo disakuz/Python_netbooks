{
  "nbformat": 4,
  "nbformat_minor": 0,
  "metadata": {
    "colab": {
      "provenance": [],
      "mount_file_id": "1H5URE5CyFgrNivRqrXTk_XM3xIGN37UV",
      "authorship_tag": "ABX9TyMvBHIBL+EyRPGIoJc3n87g",
      "include_colab_link": true
    },
    "kernelspec": {
      "name": "python3",
      "display_name": "Python 3"
    },
    "language_info": {
      "name": "python"
    }
  },
  "cells": [
    {
      "cell_type": "markdown",
      "metadata": {
        "id": "view-in-github",
        "colab_type": "text"
      },
      "source": [
        "<a href=\"https://colab.research.google.com/github/disakuz/Python_netbooks/blob/main/OSHA.ipynb\" target=\"_parent\"><img src=\"https://colab.research.google.com/assets/colab-badge.svg\" alt=\"Open In Colab\"/></a>"
      ]
    },
    {
      "cell_type": "code",
      "execution_count": null,
      "metadata": {
        "id": "Ev1A-RRhoJ7n"
      },
      "outputs": [],
      "source": [
        "import pandas as pd\n",
        "import numpy as np"
      ]
    },
    {
      "cell_type": "markdown",
      "source": [
        "https://drive.google.com/file/d/1KDBrTPvtyd8pzwSx_k9D4MoQdTaAitFz/view?usp=sharing"
      ],
      "metadata": {
        "id": "HF8OUZd0pA8e"
      }
    },
    {
      "cell_type": "code",
      "source": [
        "!gdown --id 1KDBrTPvtyd8pzwSx_k9D4MoQdTaAitFz"
      ],
      "metadata": {
        "colab": {
          "base_uri": "https://localhost:8080/"
        },
        "id": "R7UTB1LcpESd",
        "outputId": "4cfaef6a-91a7-4578-db5b-b07d261fdd98"
      },
      "execution_count": null,
      "outputs": [
        {
          "output_type": "stream",
          "name": "stdout",
          "text": [
            "/usr/local/lib/python3.10/dist-packages/gdown/cli.py:121: FutureWarning: Option `--id` was deprecated in version 4.3.1 and will be removed in 5.0. You don't need to pass it anymore to use a file ID.\n",
            "  warnings.warn(\n",
            "Downloading...\n",
            "From: https://drive.google.com/uc?id=1KDBrTPvtyd8pzwSx_k9D4MoQdTaAitFz\n",
            "To: /content/OSHA HSE DATA_ALL ABSTRACTS 15-17_FINAL.csv\n",
            "100% 3.43M/3.43M [00:00<00:00, 175MB/s]\n"
          ]
        }
      ]
    },
    {
      "cell_type": "markdown",
      "source": [
        "This dataset contains abstracts of the accidents and injuries of construction workers from 2015-2017. There is some structured data around the unstructured text abstracts, such as Degree of Injury, Body Part(s) Affected, and Construction End Use."
      ],
      "metadata": {
        "id": "45pCG1amrRED"
      }
    },
    {
      "cell_type": "code",
      "source": [
        "df = pd.read_csv('/content/OSHA HSE DATA_ALL ABSTRACTS 15-17_FINAL.csv')"
      ],
      "metadata": {
        "id": "jvZFqitapO7o"
      },
      "execution_count": null,
      "outputs": []
    },
    {
      "cell_type": "code",
      "source": [
        "df.head()"
      ],
      "metadata": {
        "colab": {
          "base_uri": "https://localhost:8080/",
          "height": 768
        },
        "id": "USs73nfjqduL",
        "outputId": "dda1c42b-51b0-4fd1-cba0-5cb68731b327"
      },
      "execution_count": null,
      "outputs": [
        {
          "output_type": "execute_result",
          "data": {
            "text/plain": [
              "   summary_nr Event Date                                      Abstract Text  \\\n",
              "0   220982664  8/10/2017  At 9:00 a.m. on August 10, 2017, an employee w...   \n",
              "1   220973937  7/17/2017  At 9:45 a.m. on July 17, 2017, an employee was...   \n",
              "2   220967632  6/30/2017  At 7:30 a.m. on June 30, 2017, an employee was...   \n",
              "3   220969901  6/30/2017  At 2:00 p.m. on June 30, 2017, an employee was...   \n",
              "4   220977748  6/23/2017  At 12:20 p.m. on June 23, 2017, an employee wa...   \n",
              "\n",
              "                                   Event Description  \\\n",
              "0  EMPLOYEE'S FINGERS AMPUTATED WHILE OPERATING A...   \n",
              "1  EMPLOYEE'S FINGER IS CAUGHT IN DRILL AND IS AM...   \n",
              "2  EMPLOYEE IS HOSPITALIZED AFTER BEING INJURED I...   \n",
              "3            EMPLOYEE FALLS FROM ROOF AND IS INJURED   \n",
              "4  EMPLOYEE IS STRUCK BY PLYWOOD WHILE UNLOADING ...   \n",
              "\n",
              "                                      Event Keywords con_end  \\\n",
              "0     FINGER,MECHANICAL POWER PRESS,AMPUTATION,GUARD       0   \n",
              "1  CAUGHT IN,DRIVE SHAFT,RESIDENTIAL CONSTRUCTION...       H   \n",
              "2                      AMPUTATED,EXPLOSION,FIREWORKS       0   \n",
              "3  RIB,ROOF,HEAD,FALL PROTECTION,FALL,COLLARBONE,...       C   \n",
              "4  STRUCK BY,TRUCK,BRAIN,NECK,FRACTURE,UNSTABLE LOAD       0   \n",
              "\n",
              "  Construction End Use  build_stor Building Stories proj_cost  ...  \\\n",
              "0                                0                          0  ...   \n",
              "1       Other building           1                1         0  ...   \n",
              "2                                0                          0  ...   \n",
              "3  Commercial building           1                1         D  ...   \n",
              "4                                0                          0  ...   \n",
              "\n",
              "              Event type evn_factor                    Environmental Factor  \\\n",
              "0   Caught in or between          2             Catch Point/Puncture Action   \n",
              "1   Caught in or between         18                                   Other   \n",
              "2                  Other         18                                   Other   \n",
              "3  Fall (from elevation)         13  Work-Surface/Facility-Layout Condition   \n",
              "4              Struck-by          6   Overhead Moving/Falling Object Action   \n",
              "\n",
              "  hum_factor                            Human Factor task_assigned  \\\n",
              "0         14                                   Other             1   \n",
              "1         10         Position Inappropriate For Task             1   \n",
              "2          4      Malfunction In Securing/Warning Op             2   \n",
              "3         14                                   Other             1   \n",
              "4         15  Insufficient/Lack/Housekeeping Program             1   \n",
              "\n",
              "            Task Assigned hazsub  fat_cause fall_ht  \n",
              "0      Regularly Assigned      0          0       0  \n",
              "1      Regularly Assigned      0          0       0  \n",
              "2  Not Regularly Assigned      0          0       0  \n",
              "3      Regularly Assigned      0         15       0  \n",
              "4      Regularly Assigned      0          0       0  \n",
              "\n",
              "[5 rows x 29 columns]"
            ],
            "text/html": [
              "\n",
              "  <div id=\"df-e9b02568-5da5-42bc-a30d-20c728bed91b\">\n",
              "    <div class=\"colab-df-container\">\n",
              "      <div>\n",
              "<style scoped>\n",
              "    .dataframe tbody tr th:only-of-type {\n",
              "        vertical-align: middle;\n",
              "    }\n",
              "\n",
              "    .dataframe tbody tr th {\n",
              "        vertical-align: top;\n",
              "    }\n",
              "\n",
              "    .dataframe thead th {\n",
              "        text-align: right;\n",
              "    }\n",
              "</style>\n",
              "<table border=\"1\" class=\"dataframe\">\n",
              "  <thead>\n",
              "    <tr style=\"text-align: right;\">\n",
              "      <th></th>\n",
              "      <th>summary_nr</th>\n",
              "      <th>Event Date</th>\n",
              "      <th>Abstract Text</th>\n",
              "      <th>Event Description</th>\n",
              "      <th>Event Keywords</th>\n",
              "      <th>con_end</th>\n",
              "      <th>Construction End Use</th>\n",
              "      <th>build_stor</th>\n",
              "      <th>Building Stories</th>\n",
              "      <th>proj_cost</th>\n",
              "      <th>...</th>\n",
              "      <th>Event type</th>\n",
              "      <th>evn_factor</th>\n",
              "      <th>Environmental Factor</th>\n",
              "      <th>hum_factor</th>\n",
              "      <th>Human Factor</th>\n",
              "      <th>task_assigned</th>\n",
              "      <th>Task Assigned</th>\n",
              "      <th>hazsub</th>\n",
              "      <th>fat_cause</th>\n",
              "      <th>fall_ht</th>\n",
              "    </tr>\n",
              "  </thead>\n",
              "  <tbody>\n",
              "    <tr>\n",
              "      <th>0</th>\n",
              "      <td>220982664</td>\n",
              "      <td>8/10/2017</td>\n",
              "      <td>At 9:00 a.m. on August 10, 2017, an employee w...</td>\n",
              "      <td>EMPLOYEE'S FINGERS AMPUTATED WHILE OPERATING A...</td>\n",
              "      <td>FINGER,MECHANICAL POWER PRESS,AMPUTATION,GUARD</td>\n",
              "      <td>0</td>\n",
              "      <td></td>\n",
              "      <td>0</td>\n",
              "      <td></td>\n",
              "      <td>0</td>\n",
              "      <td>...</td>\n",
              "      <td>Caught in or between</td>\n",
              "      <td>2</td>\n",
              "      <td>Catch Point/Puncture Action</td>\n",
              "      <td>14</td>\n",
              "      <td>Other</td>\n",
              "      <td>1</td>\n",
              "      <td>Regularly Assigned</td>\n",
              "      <td>0</td>\n",
              "      <td>0</td>\n",
              "      <td>0</td>\n",
              "    </tr>\n",
              "    <tr>\n",
              "      <th>1</th>\n",
              "      <td>220973937</td>\n",
              "      <td>7/17/2017</td>\n",
              "      <td>At 9:45 a.m. on July 17, 2017, an employee was...</td>\n",
              "      <td>EMPLOYEE'S FINGER IS CAUGHT IN DRILL AND IS AM...</td>\n",
              "      <td>CAUGHT IN,DRIVE SHAFT,RESIDENTIAL CONSTRUCTION...</td>\n",
              "      <td>H</td>\n",
              "      <td>Other building</td>\n",
              "      <td>1</td>\n",
              "      <td>1</td>\n",
              "      <td>0</td>\n",
              "      <td>...</td>\n",
              "      <td>Caught in or between</td>\n",
              "      <td>18</td>\n",
              "      <td>Other</td>\n",
              "      <td>10</td>\n",
              "      <td>Position Inappropriate For Task</td>\n",
              "      <td>1</td>\n",
              "      <td>Regularly Assigned</td>\n",
              "      <td>0</td>\n",
              "      <td>0</td>\n",
              "      <td>0</td>\n",
              "    </tr>\n",
              "    <tr>\n",
              "      <th>2</th>\n",
              "      <td>220967632</td>\n",
              "      <td>6/30/2017</td>\n",
              "      <td>At 7:30 a.m. on June 30, 2017, an employee was...</td>\n",
              "      <td>EMPLOYEE IS HOSPITALIZED AFTER BEING INJURED I...</td>\n",
              "      <td>AMPUTATED,EXPLOSION,FIREWORKS</td>\n",
              "      <td>0</td>\n",
              "      <td></td>\n",
              "      <td>0</td>\n",
              "      <td></td>\n",
              "      <td>0</td>\n",
              "      <td>...</td>\n",
              "      <td>Other</td>\n",
              "      <td>18</td>\n",
              "      <td>Other</td>\n",
              "      <td>4</td>\n",
              "      <td>Malfunction In Securing/Warning Op</td>\n",
              "      <td>2</td>\n",
              "      <td>Not Regularly Assigned</td>\n",
              "      <td>0</td>\n",
              "      <td>0</td>\n",
              "      <td>0</td>\n",
              "    </tr>\n",
              "    <tr>\n",
              "      <th>3</th>\n",
              "      <td>220969901</td>\n",
              "      <td>6/30/2017</td>\n",
              "      <td>At 2:00 p.m. on June 30, 2017, an employee was...</td>\n",
              "      <td>EMPLOYEE FALLS FROM ROOF AND IS INJURED</td>\n",
              "      <td>RIB,ROOF,HEAD,FALL PROTECTION,FALL,COLLARBONE,...</td>\n",
              "      <td>C</td>\n",
              "      <td>Commercial building</td>\n",
              "      <td>1</td>\n",
              "      <td>1</td>\n",
              "      <td>D</td>\n",
              "      <td>...</td>\n",
              "      <td>Fall (from elevation)</td>\n",
              "      <td>13</td>\n",
              "      <td>Work-Surface/Facility-Layout Condition</td>\n",
              "      <td>14</td>\n",
              "      <td>Other</td>\n",
              "      <td>1</td>\n",
              "      <td>Regularly Assigned</td>\n",
              "      <td>0</td>\n",
              "      <td>15</td>\n",
              "      <td>0</td>\n",
              "    </tr>\n",
              "    <tr>\n",
              "      <th>4</th>\n",
              "      <td>220977748</td>\n",
              "      <td>6/23/2017</td>\n",
              "      <td>At 12:20 p.m. on June 23, 2017, an employee wa...</td>\n",
              "      <td>EMPLOYEE IS STRUCK BY PLYWOOD WHILE UNLOADING ...</td>\n",
              "      <td>STRUCK BY,TRUCK,BRAIN,NECK,FRACTURE,UNSTABLE LOAD</td>\n",
              "      <td>0</td>\n",
              "      <td></td>\n",
              "      <td>0</td>\n",
              "      <td></td>\n",
              "      <td>0</td>\n",
              "      <td>...</td>\n",
              "      <td>Struck-by</td>\n",
              "      <td>6</td>\n",
              "      <td>Overhead Moving/Falling Object Action</td>\n",
              "      <td>15</td>\n",
              "      <td>Insufficient/Lack/Housekeeping Program</td>\n",
              "      <td>1</td>\n",
              "      <td>Regularly Assigned</td>\n",
              "      <td>0</td>\n",
              "      <td>0</td>\n",
              "      <td>0</td>\n",
              "    </tr>\n",
              "  </tbody>\n",
              "</table>\n",
              "<p>5 rows × 29 columns</p>\n",
              "</div>\n",
              "      <button class=\"colab-df-convert\" onclick=\"convertToInteractive('df-e9b02568-5da5-42bc-a30d-20c728bed91b')\"\n",
              "              title=\"Convert this dataframe to an interactive table.\"\n",
              "              style=\"display:none;\">\n",
              "        \n",
              "  <svg xmlns=\"http://www.w3.org/2000/svg\" height=\"24px\"viewBox=\"0 0 24 24\"\n",
              "       width=\"24px\">\n",
              "    <path d=\"M0 0h24v24H0V0z\" fill=\"none\"/>\n",
              "    <path d=\"M18.56 5.44l.94 2.06.94-2.06 2.06-.94-2.06-.94-.94-2.06-.94 2.06-2.06.94zm-11 1L8.5 8.5l.94-2.06 2.06-.94-2.06-.94L8.5 2.5l-.94 2.06-2.06.94zm10 10l.94 2.06.94-2.06 2.06-.94-2.06-.94-.94-2.06-.94 2.06-2.06.94z\"/><path d=\"M17.41 7.96l-1.37-1.37c-.4-.4-.92-.59-1.43-.59-.52 0-1.04.2-1.43.59L10.3 9.45l-7.72 7.72c-.78.78-.78 2.05 0 2.83L4 21.41c.39.39.9.59 1.41.59.51 0 1.02-.2 1.41-.59l7.78-7.78 2.81-2.81c.8-.78.8-2.07 0-2.86zM5.41 20L4 18.59l7.72-7.72 1.47 1.35L5.41 20z\"/>\n",
              "  </svg>\n",
              "      </button>\n",
              "      \n",
              "  <style>\n",
              "    .colab-df-container {\n",
              "      display:flex;\n",
              "      flex-wrap:wrap;\n",
              "      gap: 12px;\n",
              "    }\n",
              "\n",
              "    .colab-df-convert {\n",
              "      background-color: #E8F0FE;\n",
              "      border: none;\n",
              "      border-radius: 50%;\n",
              "      cursor: pointer;\n",
              "      display: none;\n",
              "      fill: #1967D2;\n",
              "      height: 32px;\n",
              "      padding: 0 0 0 0;\n",
              "      width: 32px;\n",
              "    }\n",
              "\n",
              "    .colab-df-convert:hover {\n",
              "      background-color: #E2EBFA;\n",
              "      box-shadow: 0px 1px 2px rgba(60, 64, 67, 0.3), 0px 1px 3px 1px rgba(60, 64, 67, 0.15);\n",
              "      fill: #174EA6;\n",
              "    }\n",
              "\n",
              "    [theme=dark] .colab-df-convert {\n",
              "      background-color: #3B4455;\n",
              "      fill: #D2E3FC;\n",
              "    }\n",
              "\n",
              "    [theme=dark] .colab-df-convert:hover {\n",
              "      background-color: #434B5C;\n",
              "      box-shadow: 0px 1px 3px 1px rgba(0, 0, 0, 0.15);\n",
              "      filter: drop-shadow(0px 1px 2px rgba(0, 0, 0, 0.3));\n",
              "      fill: #FFFFFF;\n",
              "    }\n",
              "  </style>\n",
              "\n",
              "      <script>\n",
              "        const buttonEl =\n",
              "          document.querySelector('#df-e9b02568-5da5-42bc-a30d-20c728bed91b button.colab-df-convert');\n",
              "        buttonEl.style.display =\n",
              "          google.colab.kernel.accessAllowed ? 'block' : 'none';\n",
              "\n",
              "        async function convertToInteractive(key) {\n",
              "          const element = document.querySelector('#df-e9b02568-5da5-42bc-a30d-20c728bed91b');\n",
              "          const dataTable =\n",
              "            await google.colab.kernel.invokeFunction('convertToInteractive',\n",
              "                                                     [key], {});\n",
              "          if (!dataTable) return;\n",
              "\n",
              "          const docLinkHtml = 'Like what you see? Visit the ' +\n",
              "            '<a target=\"_blank\" href=https://colab.research.google.com/notebooks/data_table.ipynb>data table notebook</a>'\n",
              "            + ' to learn more about interactive tables.';\n",
              "          element.innerHTML = '';\n",
              "          dataTable['output_type'] = 'display_data';\n",
              "          await google.colab.output.renderOutput(dataTable, element);\n",
              "          const docLink = document.createElement('div');\n",
              "          docLink.innerHTML = docLinkHtml;\n",
              "          element.appendChild(docLink);\n",
              "        }\n",
              "      </script>\n",
              "    </div>\n",
              "  </div>\n",
              "  "
            ]
          },
          "metadata": {},
          "execution_count": 4
        }
      ]
    },
    {
      "cell_type": "markdown",
      "source": [
        "## Подготовка данных"
      ],
      "metadata": {
        "id": "abdu6zIVwkyy"
      }
    },
    {
      "cell_type": "code",
      "source": [
        "df.info()"
      ],
      "metadata": {
        "colab": {
          "base_uri": "https://localhost:8080/"
        },
        "id": "K6JYwg4Yqj9c",
        "outputId": "8d1d20e4-8f9b-46d5-fb2a-178939d5f95f"
      },
      "execution_count": null,
      "outputs": [
        {
          "output_type": "stream",
          "name": "stdout",
          "text": [
            "<class 'pandas.core.frame.DataFrame'>\n",
            "RangeIndex: 4847 entries, 0 to 4846\n",
            "Data columns (total 29 columns):\n",
            " #   Column                Non-Null Count  Dtype \n",
            "---  ------                --------------  ----- \n",
            " 0   summary_nr            4847 non-null   int64 \n",
            " 1   Event Date            4847 non-null   object\n",
            " 2   Abstract Text         4847 non-null   object\n",
            " 3   Event Description     4847 non-null   object\n",
            " 4   Event Keywords        4847 non-null   object\n",
            " 5   con_end               4847 non-null   object\n",
            " 6   Construction End Use  4847 non-null   object\n",
            " 7   build_stor            4847 non-null   int64 \n",
            " 8   Building Stories      4847 non-null   object\n",
            " 9   proj_cost             4847 non-null   object\n",
            " 10  Project Cost          4847 non-null   object\n",
            " 11  proj_type             4847 non-null   object\n",
            " 12  Project Type          4847 non-null   object\n",
            " 13  Degree of Injury      4847 non-null   object\n",
            " 14  nature_of_inj         4847 non-null   int64 \n",
            " 15  Nature of Injury      4845 non-null   object\n",
            " 16  part_of_body          4847 non-null   int64 \n",
            " 17  Part of Body          4845 non-null   object\n",
            " 18  event_type            4847 non-null   int64 \n",
            " 19  Event type            4845 non-null   object\n",
            " 20  evn_factor            4847 non-null   int64 \n",
            " 21  Environmental Factor  4840 non-null   object\n",
            " 22  hum_factor            4847 non-null   int64 \n",
            " 23  Human Factor          4840 non-null   object\n",
            " 24  task_assigned         4847 non-null   int64 \n",
            " 25  Task Assigned         4847 non-null   object\n",
            " 26  hazsub                4847 non-null   object\n",
            " 27  fat_cause             4847 non-null   int64 \n",
            " 28  fall_ht               4847 non-null   int64 \n",
            "dtypes: int64(10), object(19)\n",
            "memory usage: 1.1+ MB\n"
          ]
        }
      ]
    },
    {
      "cell_type": "code",
      "source": [
        "df.isna().mean()"
      ],
      "metadata": {
        "colab": {
          "base_uri": "https://localhost:8080/"
        },
        "id": "coiComKrqt9q",
        "outputId": "172c72c7-b6b8-4899-e85c-04828eb536c5"
      },
      "execution_count": null,
      "outputs": [
        {
          "output_type": "execute_result",
          "data": {
            "text/plain": [
              "summary_nr              0.000000\n",
              "Event Date              0.000000\n",
              "Abstract Text           0.000000\n",
              "Event Description       0.000000\n",
              "Event Keywords          0.000000\n",
              "con_end                 0.000000\n",
              "Construction End Use    0.000000\n",
              "build_stor              0.000000\n",
              "Building Stories        0.000000\n",
              "proj_cost               0.000000\n",
              "Project Cost            0.000000\n",
              "proj_type               0.000000\n",
              "Project Type            0.000000\n",
              "Degree of Injury        0.000000\n",
              "nature_of_inj           0.000000\n",
              "Nature of Injury        0.000413\n",
              "part_of_body            0.000000\n",
              "Part of Body            0.000413\n",
              "event_type              0.000000\n",
              "Event type              0.000413\n",
              "evn_factor              0.000000\n",
              "Environmental Factor    0.001444\n",
              "hum_factor              0.000000\n",
              "Human Factor            0.001444\n",
              "task_assigned           0.000000\n",
              "Task Assigned           0.000000\n",
              "hazsub                  0.000000\n",
              "fat_cause               0.000000\n",
              "fall_ht                 0.000000\n",
              "dtype: float64"
            ]
          },
          "metadata": {},
          "execution_count": 6
        }
      ]
    },
    {
      "cell_type": "code",
      "source": [
        "df.columns"
      ],
      "metadata": {
        "colab": {
          "base_uri": "https://localhost:8080/"
        },
        "id": "GSRJRzOvwPAc",
        "outputId": "9b83fee5-bc00-46fd-e195-e27fc21619ad"
      },
      "execution_count": null,
      "outputs": [
        {
          "output_type": "execute_result",
          "data": {
            "text/plain": [
              "Index(['summary_nr', 'Event Date', 'Abstract Text', 'Event Description',\n",
              "       'Event Keywords', 'con_end', 'Construction End Use', 'build_stor',\n",
              "       'Building Stories', 'proj_cost', 'Project Cost', 'proj_type',\n",
              "       'Project Type', 'Degree of Injury', 'nature_of_inj', 'Nature of Injury',\n",
              "       'part_of_body', 'Part of Body', 'event_type', 'Event type',\n",
              "       'evn_factor', 'Environmental Factor', 'hum_factor', 'Human Factor',\n",
              "       'task_assigned', 'Task Assigned', 'hazsub', 'fat_cause', 'fall_ht'],\n",
              "      dtype='object')"
            ]
          },
          "metadata": {},
          "execution_count": 7
        }
      ]
    },
    {
      "cell_type": "code",
      "source": [
        "df.columns = df.columns.str.replace(' ','_').str.lower()"
      ],
      "metadata": {
        "id": "OiXBcBChwU-E"
      },
      "execution_count": null,
      "outputs": []
    },
    {
      "cell_type": "code",
      "source": [
        "df.columns"
      ],
      "metadata": {
        "colab": {
          "base_uri": "https://localhost:8080/"
        },
        "id": "EpkwHx3Twd0Q",
        "outputId": "7478bb9c-06fe-4d7e-9cf2-4f248d98a6d3"
      },
      "execution_count": null,
      "outputs": [
        {
          "output_type": "execute_result",
          "data": {
            "text/plain": [
              "Index(['summary_nr', 'event_date', 'abstract_text', 'event_description',\n",
              "       'event_keywords', 'con_end', 'construction_end_use', 'build_stor',\n",
              "       'building_stories', 'proj_cost', 'project_cost', 'proj_type',\n",
              "       'project_type', 'degree_of_injury', 'nature_of_inj', 'nature_of_injury',\n",
              "       'part_of_body', 'part_of_body', 'event_type', 'event_type',\n",
              "       'evn_factor', 'environmental_factor', 'hum_factor', 'human_factor',\n",
              "       'task_assigned', 'task_assigned', 'hazsub', 'fat_cause', 'fall_ht'],\n",
              "      dtype='object')"
            ]
          },
          "metadata": {},
          "execution_count": 9
        }
      ]
    },
    {
      "cell_type": "code",
      "source": [
        "len(df)"
      ],
      "metadata": {
        "colab": {
          "base_uri": "https://localhost:8080/"
        },
        "id": "fpQRkWcew1YE",
        "outputId": "059a25a8-fb79-4630-bd6e-0a74a01009c9"
      },
      "execution_count": null,
      "outputs": [
        {
          "output_type": "execute_result",
          "data": {
            "text/plain": [
              "4847"
            ]
          },
          "metadata": {},
          "execution_count": 10
        }
      ]
    },
    {
      "cell_type": "code",
      "source": [
        "df.isna().mean()"
      ],
      "metadata": {
        "colab": {
          "base_uri": "https://localhost:8080/"
        },
        "id": "btt0pFWDzruP",
        "outputId": "bbc3a935-ef11-474c-9bee-2bb37b75b4b6"
      },
      "execution_count": null,
      "outputs": [
        {
          "output_type": "execute_result",
          "data": {
            "text/plain": [
              "summary_nr              0.000000\n",
              "event_date              0.000000\n",
              "abstract_text           0.000000\n",
              "event_description       0.000000\n",
              "event_keywords          0.000000\n",
              "con_end                 0.000000\n",
              "construction_end_use    0.000000\n",
              "build_stor              0.000000\n",
              "building_stories        0.000000\n",
              "proj_cost               0.000000\n",
              "project_cost            0.000000\n",
              "proj_type               0.000000\n",
              "project_type            0.000000\n",
              "degree_of_injury        0.000000\n",
              "nature_of_inj           0.000000\n",
              "nature_of_injury        0.000413\n",
              "part_of_body            0.000000\n",
              "part_of_body            0.000413\n",
              "event_type              0.000000\n",
              "event_type              0.000413\n",
              "evn_factor              0.000000\n",
              "environmental_factor    0.001444\n",
              "hum_factor              0.000000\n",
              "human_factor            0.001444\n",
              "task_assigned           0.000000\n",
              "task_assigned           0.000000\n",
              "hazsub                  0.000000\n",
              "fat_cause               0.000000\n",
              "fall_ht                 0.000000\n",
              "dtype: float64"
            ]
          },
          "metadata": {},
          "execution_count": 11
        }
      ]
    },
    {
      "cell_type": "code",
      "source": [
        "df['nature_of_injury'] = df['nature_of_injury'].fillna('no_info')\n",
        "df['part_of_body'] = df['part_of_body'].fillna('no_info')\n",
        "df['event_type'] = df['event_type'].fillna('no_info')\n",
        "df['environmental_factor'] = df['environmental_factor'].fillna('no_info')\n",
        "df['human_factor'] = df['human_factor'].fillna('no_info')"
      ],
      "metadata": {
        "id": "94UOolEhzvCk"
      },
      "execution_count": null,
      "outputs": []
    },
    {
      "cell_type": "code",
      "source": [
        "df.isna().mean()"
      ],
      "metadata": {
        "colab": {
          "base_uri": "https://localhost:8080/"
        },
        "id": "d4Cf1s3S0bfm",
        "outputId": "fdb529e9-d187-4e06-ce19-d11160bc7eaa"
      },
      "execution_count": null,
      "outputs": [
        {
          "output_type": "execute_result",
          "data": {
            "text/plain": [
              "summary_nr              0.0\n",
              "event_date              0.0\n",
              "abstract_text           0.0\n",
              "event_description       0.0\n",
              "event_keywords          0.0\n",
              "con_end                 0.0\n",
              "construction_end_use    0.0\n",
              "build_stor              0.0\n",
              "building_stories        0.0\n",
              "proj_cost               0.0\n",
              "project_cost            0.0\n",
              "proj_type               0.0\n",
              "project_type            0.0\n",
              "degree_of_injury        0.0\n",
              "nature_of_inj           0.0\n",
              "nature_of_injury        0.0\n",
              "part_of_body            0.0\n",
              "part_of_body            0.0\n",
              "event_type              0.0\n",
              "event_type              0.0\n",
              "evn_factor              0.0\n",
              "environmental_factor    0.0\n",
              "hum_factor              0.0\n",
              "human_factor            0.0\n",
              "task_assigned           0.0\n",
              "task_assigned           0.0\n",
              "hazsub                  0.0\n",
              "fat_cause               0.0\n",
              "fall_ht                 0.0\n",
              "dtype: float64"
            ]
          },
          "metadata": {},
          "execution_count": 16
        }
      ]
    },
    {
      "cell_type": "code",
      "source": [
        "df.describe()"
      ],
      "metadata": {
        "colab": {
          "base_uri": "https://localhost:8080/",
          "height": 300
        },
        "id": "hmmAZRL_0mp8",
        "outputId": "532c132c-7bc6-4667-f3d0-beb14c101567"
      },
      "execution_count": null,
      "outputs": [
        {
          "output_type": "execute_result",
          "data": {
            "text/plain": [
              "         summary_nr   build_stor  nature_of_inj   evn_factor   hum_factor  \\\n",
              "count  4.847000e+03  4847.000000    4847.000000  4847.000000  4847.000000   \n",
              "mean   2.208956e+08     0.447287      11.852486    11.983701     9.456984   \n",
              "std    5.585438e+04     3.011749       7.634332     6.198560     6.161380   \n",
              "min    2.207779e+08     0.000000       0.000000     0.000000     0.000000   \n",
              "25%    2.208494e+08     0.000000       5.000000     7.000000     1.000000   \n",
              "50%    2.209189e+08     0.000000      12.000000    13.000000    13.000000   \n",
              "75%    2.209406e+08     0.000000      21.000000    18.000000    14.000000   \n",
              "max    2.209923e+08   139.000000      22.000000    18.000000    20.000000   \n",
              "\n",
              "       task_assigned    fat_cause  fall_ht  \n",
              "count    4847.000000  4847.000000   4847.0  \n",
              "mean        1.371157     3.065608      0.0  \n",
              "std         0.483164     7.247627      0.0  \n",
              "min         1.000000     0.000000      0.0  \n",
              "25%         1.000000     0.000000      0.0  \n",
              "50%         1.000000     0.000000      0.0  \n",
              "75%         2.000000     0.000000      0.0  \n",
              "max         2.000000    30.000000      0.0  "
            ],
            "text/html": [
              "\n",
              "  <div id=\"df-a74195b4-5269-4ebd-8bfb-89c3c9aca588\">\n",
              "    <div class=\"colab-df-container\">\n",
              "      <div>\n",
              "<style scoped>\n",
              "    .dataframe tbody tr th:only-of-type {\n",
              "        vertical-align: middle;\n",
              "    }\n",
              "\n",
              "    .dataframe tbody tr th {\n",
              "        vertical-align: top;\n",
              "    }\n",
              "\n",
              "    .dataframe thead th {\n",
              "        text-align: right;\n",
              "    }\n",
              "</style>\n",
              "<table border=\"1\" class=\"dataframe\">\n",
              "  <thead>\n",
              "    <tr style=\"text-align: right;\">\n",
              "      <th></th>\n",
              "      <th>summary_nr</th>\n",
              "      <th>build_stor</th>\n",
              "      <th>nature_of_inj</th>\n",
              "      <th>evn_factor</th>\n",
              "      <th>hum_factor</th>\n",
              "      <th>task_assigned</th>\n",
              "      <th>fat_cause</th>\n",
              "      <th>fall_ht</th>\n",
              "    </tr>\n",
              "  </thead>\n",
              "  <tbody>\n",
              "    <tr>\n",
              "      <th>count</th>\n",
              "      <td>4.847000e+03</td>\n",
              "      <td>4847.000000</td>\n",
              "      <td>4847.000000</td>\n",
              "      <td>4847.000000</td>\n",
              "      <td>4847.000000</td>\n",
              "      <td>4847.000000</td>\n",
              "      <td>4847.000000</td>\n",
              "      <td>4847.0</td>\n",
              "    </tr>\n",
              "    <tr>\n",
              "      <th>mean</th>\n",
              "      <td>2.208956e+08</td>\n",
              "      <td>0.447287</td>\n",
              "      <td>11.852486</td>\n",
              "      <td>11.983701</td>\n",
              "      <td>9.456984</td>\n",
              "      <td>1.371157</td>\n",
              "      <td>3.065608</td>\n",
              "      <td>0.0</td>\n",
              "    </tr>\n",
              "    <tr>\n",
              "      <th>std</th>\n",
              "      <td>5.585438e+04</td>\n",
              "      <td>3.011749</td>\n",
              "      <td>7.634332</td>\n",
              "      <td>6.198560</td>\n",
              "      <td>6.161380</td>\n",
              "      <td>0.483164</td>\n",
              "      <td>7.247627</td>\n",
              "      <td>0.0</td>\n",
              "    </tr>\n",
              "    <tr>\n",
              "      <th>min</th>\n",
              "      <td>2.207779e+08</td>\n",
              "      <td>0.000000</td>\n",
              "      <td>0.000000</td>\n",
              "      <td>0.000000</td>\n",
              "      <td>0.000000</td>\n",
              "      <td>1.000000</td>\n",
              "      <td>0.000000</td>\n",
              "      <td>0.0</td>\n",
              "    </tr>\n",
              "    <tr>\n",
              "      <th>25%</th>\n",
              "      <td>2.208494e+08</td>\n",
              "      <td>0.000000</td>\n",
              "      <td>5.000000</td>\n",
              "      <td>7.000000</td>\n",
              "      <td>1.000000</td>\n",
              "      <td>1.000000</td>\n",
              "      <td>0.000000</td>\n",
              "      <td>0.0</td>\n",
              "    </tr>\n",
              "    <tr>\n",
              "      <th>50%</th>\n",
              "      <td>2.209189e+08</td>\n",
              "      <td>0.000000</td>\n",
              "      <td>12.000000</td>\n",
              "      <td>13.000000</td>\n",
              "      <td>13.000000</td>\n",
              "      <td>1.000000</td>\n",
              "      <td>0.000000</td>\n",
              "      <td>0.0</td>\n",
              "    </tr>\n",
              "    <tr>\n",
              "      <th>75%</th>\n",
              "      <td>2.209406e+08</td>\n",
              "      <td>0.000000</td>\n",
              "      <td>21.000000</td>\n",
              "      <td>18.000000</td>\n",
              "      <td>14.000000</td>\n",
              "      <td>2.000000</td>\n",
              "      <td>0.000000</td>\n",
              "      <td>0.0</td>\n",
              "    </tr>\n",
              "    <tr>\n",
              "      <th>max</th>\n",
              "      <td>2.209923e+08</td>\n",
              "      <td>139.000000</td>\n",
              "      <td>22.000000</td>\n",
              "      <td>18.000000</td>\n",
              "      <td>20.000000</td>\n",
              "      <td>2.000000</td>\n",
              "      <td>30.000000</td>\n",
              "      <td>0.0</td>\n",
              "    </tr>\n",
              "  </tbody>\n",
              "</table>\n",
              "</div>\n",
              "      <button class=\"colab-df-convert\" onclick=\"convertToInteractive('df-a74195b4-5269-4ebd-8bfb-89c3c9aca588')\"\n",
              "              title=\"Convert this dataframe to an interactive table.\"\n",
              "              style=\"display:none;\">\n",
              "        \n",
              "  <svg xmlns=\"http://www.w3.org/2000/svg\" height=\"24px\"viewBox=\"0 0 24 24\"\n",
              "       width=\"24px\">\n",
              "    <path d=\"M0 0h24v24H0V0z\" fill=\"none\"/>\n",
              "    <path d=\"M18.56 5.44l.94 2.06.94-2.06 2.06-.94-2.06-.94-.94-2.06-.94 2.06-2.06.94zm-11 1L8.5 8.5l.94-2.06 2.06-.94-2.06-.94L8.5 2.5l-.94 2.06-2.06.94zm10 10l.94 2.06.94-2.06 2.06-.94-2.06-.94-.94-2.06-.94 2.06-2.06.94z\"/><path d=\"M17.41 7.96l-1.37-1.37c-.4-.4-.92-.59-1.43-.59-.52 0-1.04.2-1.43.59L10.3 9.45l-7.72 7.72c-.78.78-.78 2.05 0 2.83L4 21.41c.39.39.9.59 1.41.59.51 0 1.02-.2 1.41-.59l7.78-7.78 2.81-2.81c.8-.78.8-2.07 0-2.86zM5.41 20L4 18.59l7.72-7.72 1.47 1.35L5.41 20z\"/>\n",
              "  </svg>\n",
              "      </button>\n",
              "      \n",
              "  <style>\n",
              "    .colab-df-container {\n",
              "      display:flex;\n",
              "      flex-wrap:wrap;\n",
              "      gap: 12px;\n",
              "    }\n",
              "\n",
              "    .colab-df-convert {\n",
              "      background-color: #E8F0FE;\n",
              "      border: none;\n",
              "      border-radius: 50%;\n",
              "      cursor: pointer;\n",
              "      display: none;\n",
              "      fill: #1967D2;\n",
              "      height: 32px;\n",
              "      padding: 0 0 0 0;\n",
              "      width: 32px;\n",
              "    }\n",
              "\n",
              "    .colab-df-convert:hover {\n",
              "      background-color: #E2EBFA;\n",
              "      box-shadow: 0px 1px 2px rgba(60, 64, 67, 0.3), 0px 1px 3px 1px rgba(60, 64, 67, 0.15);\n",
              "      fill: #174EA6;\n",
              "    }\n",
              "\n",
              "    [theme=dark] .colab-df-convert {\n",
              "      background-color: #3B4455;\n",
              "      fill: #D2E3FC;\n",
              "    }\n",
              "\n",
              "    [theme=dark] .colab-df-convert:hover {\n",
              "      background-color: #434B5C;\n",
              "      box-shadow: 0px 1px 3px 1px rgba(0, 0, 0, 0.15);\n",
              "      filter: drop-shadow(0px 1px 2px rgba(0, 0, 0, 0.3));\n",
              "      fill: #FFFFFF;\n",
              "    }\n",
              "  </style>\n",
              "\n",
              "      <script>\n",
              "        const buttonEl =\n",
              "          document.querySelector('#df-a74195b4-5269-4ebd-8bfb-89c3c9aca588 button.colab-df-convert');\n",
              "        buttonEl.style.display =\n",
              "          google.colab.kernel.accessAllowed ? 'block' : 'none';\n",
              "\n",
              "        async function convertToInteractive(key) {\n",
              "          const element = document.querySelector('#df-a74195b4-5269-4ebd-8bfb-89c3c9aca588');\n",
              "          const dataTable =\n",
              "            await google.colab.kernel.invokeFunction('convertToInteractive',\n",
              "                                                     [key], {});\n",
              "          if (!dataTable) return;\n",
              "\n",
              "          const docLinkHtml = 'Like what you see? Visit the ' +\n",
              "            '<a target=\"_blank\" href=https://colab.research.google.com/notebooks/data_table.ipynb>data table notebook</a>'\n",
              "            + ' to learn more about interactive tables.';\n",
              "          element.innerHTML = '';\n",
              "          dataTable['output_type'] = 'display_data';\n",
              "          await google.colab.output.renderOutput(dataTable, element);\n",
              "          const docLink = document.createElement('div');\n",
              "          docLink.innerHTML = docLinkHtml;\n",
              "          element.appendChild(docLink);\n",
              "        }\n",
              "      </script>\n",
              "    </div>\n",
              "  </div>\n",
              "  "
            ]
          },
          "metadata": {},
          "execution_count": 17
        }
      ]
    },
    {
      "cell_type": "code",
      "source": [
        "df['event_description'].value_counts().head(10)"
      ],
      "metadata": {
        "colab": {
          "base_uri": "https://localhost:8080/"
        },
        "id": "zBmvpWjl0zYf",
        "outputId": "3449fe69-d197-42c5-8998-fa0f629f484d"
      },
      "execution_count": null,
      "outputs": [
        {
          "output_type": "execute_result",
          "data": {
            "text/plain": [
              "EMPLOYEE FALLS FROM ROOF AND IS KILLED           46\n",
              "EMPLOYEE FALLS FROM LADDER AND IS KILLED         43\n",
              "EMPLOYEE DIES FROM HEART ATTACK                  34\n",
              "EMPLOYEE FALLS FROM SCAFFOLD AND IS KILLED       21\n",
              "EMPLOYEE FALLS THROUGH SKYLIGHT AND IS KILLED    18\n",
              "EMPLOYEE IS KILLED IN FALL FROM ROOF             16\n",
              "EMPLOYEE IS KILLED IN FALL                       14\n",
              "EMPLOYEE FALLS FROM LADDER AND IS INJURED        12\n",
              "EMPLOYEE IS KILLED IN FALL FROM LADDER           11\n",
              "EMPLOYEE FALLS AND IS KILLED                     10\n",
              "Name: event_description, dtype: int64"
            ]
          },
          "metadata": {},
          "execution_count": 23
        }
      ]
    },
    {
      "cell_type": "code",
      "source": [
        "df['construction_end_use'].value_counts().head(10)"
      ],
      "metadata": {
        "colab": {
          "base_uri": "https://localhost:8080/"
        },
        "id": "cykatbGD1nuI",
        "outputId": "23c74558-3a1c-4175-a3d2-14db8b20f390"
      },
      "execution_count": null,
      "outputs": [
        {
          "output_type": "execute_result",
          "data": {
            "text/plain": [
              "                                    3820\n",
              "Commercial building                  279\n",
              "Single family or duplex dwelling     193\n",
              "Other building                       139\n",
              "Multi-family dwelling                132\n",
              "Highway, road, street                 84\n",
              "Manufacturing plant                   39\n",
              "Pipeline                              34\n",
              "Other heavy construction              32\n",
              "Sewer/water treatment plant           20\n",
              "Name: construction_end_use, dtype: int64"
            ]
          },
          "metadata": {},
          "execution_count": 24
        }
      ]
    },
    {
      "cell_type": "markdown",
      "source": [],
      "metadata": {
        "id": "ZP6XMaZMpNJF"
      }
    },
    {
      "cell_type": "code",
      "source": [
        "df.head(3)"
      ],
      "metadata": {
        "colab": {
          "base_uri": "https://localhost:8080/",
          "height": 410
        },
        "id": "-vAbmSI_3AhP",
        "outputId": "d64b0434-2bb7-4b8b-b292-24b8250a010a"
      },
      "execution_count": null,
      "outputs": [
        {
          "output_type": "execute_result",
          "data": {
            "text/plain": [
              "   summary_nr event_date                                      abstract_text  \\\n",
              "0   220982664  8/10/2017  At 9:00 a.m. on August 10, 2017, an employee w...   \n",
              "1   220973937  7/17/2017  At 9:45 a.m. on July 17, 2017, an employee was...   \n",
              "2   220967632  6/30/2017  At 7:30 a.m. on June 30, 2017, an employee was...   \n",
              "\n",
              "                                   event_description  \\\n",
              "0  EMPLOYEE'S FINGERS AMPUTATED WHILE OPERATING A...   \n",
              "1  EMPLOYEE'S FINGER IS CAUGHT IN DRILL AND IS AM...   \n",
              "2  EMPLOYEE IS HOSPITALIZED AFTER BEING INJURED I...   \n",
              "\n",
              "                                      event_keywords con_end  \\\n",
              "0     FINGER,MECHANICAL POWER PRESS,AMPUTATION,GUARD       0   \n",
              "1  CAUGHT IN,DRIVE SHAFT,RESIDENTIAL CONSTRUCTION...       H   \n",
              "2                      AMPUTATED,EXPLOSION,FIREWORKS       0   \n",
              "\n",
              "  construction_end_use  build_stor building_stories proj_cost  ...  \\\n",
              "0                                0                          0  ...   \n",
              "1       Other building           1                1         0  ...   \n",
              "2                                0                          0  ...   \n",
              "\n",
              "             event_type evn_factor         environmental_factor hum_factor  \\\n",
              "0  Caught in or between          2  Catch Point/Puncture Action         14   \n",
              "1  Caught in or between         18                        Other         10   \n",
              "2                 Other         18                        Other          4   \n",
              "\n",
              "                         human_factor task_assigned           task_assigned  \\\n",
              "0                               Other             1      Regularly Assigned   \n",
              "1     Position Inappropriate For Task             1      Regularly Assigned   \n",
              "2  Malfunction In Securing/Warning Op             2  Not Regularly Assigned   \n",
              "\n",
              "  hazsub fat_cause fall_ht  \n",
              "0      0         0       0  \n",
              "1      0         0       0  \n",
              "2      0         0       0  \n",
              "\n",
              "[3 rows x 29 columns]"
            ],
            "text/html": [
              "\n",
              "  <div id=\"df-2d513925-4e79-4601-bfe3-f29789aee4e9\">\n",
              "    <div class=\"colab-df-container\">\n",
              "      <div>\n",
              "<style scoped>\n",
              "    .dataframe tbody tr th:only-of-type {\n",
              "        vertical-align: middle;\n",
              "    }\n",
              "\n",
              "    .dataframe tbody tr th {\n",
              "        vertical-align: top;\n",
              "    }\n",
              "\n",
              "    .dataframe thead th {\n",
              "        text-align: right;\n",
              "    }\n",
              "</style>\n",
              "<table border=\"1\" class=\"dataframe\">\n",
              "  <thead>\n",
              "    <tr style=\"text-align: right;\">\n",
              "      <th></th>\n",
              "      <th>summary_nr</th>\n",
              "      <th>event_date</th>\n",
              "      <th>abstract_text</th>\n",
              "      <th>event_description</th>\n",
              "      <th>event_keywords</th>\n",
              "      <th>con_end</th>\n",
              "      <th>construction_end_use</th>\n",
              "      <th>build_stor</th>\n",
              "      <th>building_stories</th>\n",
              "      <th>proj_cost</th>\n",
              "      <th>...</th>\n",
              "      <th>event_type</th>\n",
              "      <th>evn_factor</th>\n",
              "      <th>environmental_factor</th>\n",
              "      <th>hum_factor</th>\n",
              "      <th>human_factor</th>\n",
              "      <th>task_assigned</th>\n",
              "      <th>task_assigned</th>\n",
              "      <th>hazsub</th>\n",
              "      <th>fat_cause</th>\n",
              "      <th>fall_ht</th>\n",
              "    </tr>\n",
              "  </thead>\n",
              "  <tbody>\n",
              "    <tr>\n",
              "      <th>0</th>\n",
              "      <td>220982664</td>\n",
              "      <td>8/10/2017</td>\n",
              "      <td>At 9:00 a.m. on August 10, 2017, an employee w...</td>\n",
              "      <td>EMPLOYEE'S FINGERS AMPUTATED WHILE OPERATING A...</td>\n",
              "      <td>FINGER,MECHANICAL POWER PRESS,AMPUTATION,GUARD</td>\n",
              "      <td>0</td>\n",
              "      <td></td>\n",
              "      <td>0</td>\n",
              "      <td></td>\n",
              "      <td>0</td>\n",
              "      <td>...</td>\n",
              "      <td>Caught in or between</td>\n",
              "      <td>2</td>\n",
              "      <td>Catch Point/Puncture Action</td>\n",
              "      <td>14</td>\n",
              "      <td>Other</td>\n",
              "      <td>1</td>\n",
              "      <td>Regularly Assigned</td>\n",
              "      <td>0</td>\n",
              "      <td>0</td>\n",
              "      <td>0</td>\n",
              "    </tr>\n",
              "    <tr>\n",
              "      <th>1</th>\n",
              "      <td>220973937</td>\n",
              "      <td>7/17/2017</td>\n",
              "      <td>At 9:45 a.m. on July 17, 2017, an employee was...</td>\n",
              "      <td>EMPLOYEE'S FINGER IS CAUGHT IN DRILL AND IS AM...</td>\n",
              "      <td>CAUGHT IN,DRIVE SHAFT,RESIDENTIAL CONSTRUCTION...</td>\n",
              "      <td>H</td>\n",
              "      <td>Other building</td>\n",
              "      <td>1</td>\n",
              "      <td>1</td>\n",
              "      <td>0</td>\n",
              "      <td>...</td>\n",
              "      <td>Caught in or between</td>\n",
              "      <td>18</td>\n",
              "      <td>Other</td>\n",
              "      <td>10</td>\n",
              "      <td>Position Inappropriate For Task</td>\n",
              "      <td>1</td>\n",
              "      <td>Regularly Assigned</td>\n",
              "      <td>0</td>\n",
              "      <td>0</td>\n",
              "      <td>0</td>\n",
              "    </tr>\n",
              "    <tr>\n",
              "      <th>2</th>\n",
              "      <td>220967632</td>\n",
              "      <td>6/30/2017</td>\n",
              "      <td>At 7:30 a.m. on June 30, 2017, an employee was...</td>\n",
              "      <td>EMPLOYEE IS HOSPITALIZED AFTER BEING INJURED I...</td>\n",
              "      <td>AMPUTATED,EXPLOSION,FIREWORKS</td>\n",
              "      <td>0</td>\n",
              "      <td></td>\n",
              "      <td>0</td>\n",
              "      <td></td>\n",
              "      <td>0</td>\n",
              "      <td>...</td>\n",
              "      <td>Other</td>\n",
              "      <td>18</td>\n",
              "      <td>Other</td>\n",
              "      <td>4</td>\n",
              "      <td>Malfunction In Securing/Warning Op</td>\n",
              "      <td>2</td>\n",
              "      <td>Not Regularly Assigned</td>\n",
              "      <td>0</td>\n",
              "      <td>0</td>\n",
              "      <td>0</td>\n",
              "    </tr>\n",
              "  </tbody>\n",
              "</table>\n",
              "<p>3 rows × 29 columns</p>\n",
              "</div>\n",
              "      <button class=\"colab-df-convert\" onclick=\"convertToInteractive('df-2d513925-4e79-4601-bfe3-f29789aee4e9')\"\n",
              "              title=\"Convert this dataframe to an interactive table.\"\n",
              "              style=\"display:none;\">\n",
              "        \n",
              "  <svg xmlns=\"http://www.w3.org/2000/svg\" height=\"24px\"viewBox=\"0 0 24 24\"\n",
              "       width=\"24px\">\n",
              "    <path d=\"M0 0h24v24H0V0z\" fill=\"none\"/>\n",
              "    <path d=\"M18.56 5.44l.94 2.06.94-2.06 2.06-.94-2.06-.94-.94-2.06-.94 2.06-2.06.94zm-11 1L8.5 8.5l.94-2.06 2.06-.94-2.06-.94L8.5 2.5l-.94 2.06-2.06.94zm10 10l.94 2.06.94-2.06 2.06-.94-2.06-.94-.94-2.06-.94 2.06-2.06.94z\"/><path d=\"M17.41 7.96l-1.37-1.37c-.4-.4-.92-.59-1.43-.59-.52 0-1.04.2-1.43.59L10.3 9.45l-7.72 7.72c-.78.78-.78 2.05 0 2.83L4 21.41c.39.39.9.59 1.41.59.51 0 1.02-.2 1.41-.59l7.78-7.78 2.81-2.81c.8-.78.8-2.07 0-2.86zM5.41 20L4 18.59l7.72-7.72 1.47 1.35L5.41 20z\"/>\n",
              "  </svg>\n",
              "      </button>\n",
              "      \n",
              "  <style>\n",
              "    .colab-df-container {\n",
              "      display:flex;\n",
              "      flex-wrap:wrap;\n",
              "      gap: 12px;\n",
              "    }\n",
              "\n",
              "    .colab-df-convert {\n",
              "      background-color: #E8F0FE;\n",
              "      border: none;\n",
              "      border-radius: 50%;\n",
              "      cursor: pointer;\n",
              "      display: none;\n",
              "      fill: #1967D2;\n",
              "      height: 32px;\n",
              "      padding: 0 0 0 0;\n",
              "      width: 32px;\n",
              "    }\n",
              "\n",
              "    .colab-df-convert:hover {\n",
              "      background-color: #E2EBFA;\n",
              "      box-shadow: 0px 1px 2px rgba(60, 64, 67, 0.3), 0px 1px 3px 1px rgba(60, 64, 67, 0.15);\n",
              "      fill: #174EA6;\n",
              "    }\n",
              "\n",
              "    [theme=dark] .colab-df-convert {\n",
              "      background-color: #3B4455;\n",
              "      fill: #D2E3FC;\n",
              "    }\n",
              "\n",
              "    [theme=dark] .colab-df-convert:hover {\n",
              "      background-color: #434B5C;\n",
              "      box-shadow: 0px 1px 3px 1px rgba(0, 0, 0, 0.15);\n",
              "      filter: drop-shadow(0px 1px 2px rgba(0, 0, 0, 0.3));\n",
              "      fill: #FFFFFF;\n",
              "    }\n",
              "  </style>\n",
              "\n",
              "      <script>\n",
              "        const buttonEl =\n",
              "          document.querySelector('#df-2d513925-4e79-4601-bfe3-f29789aee4e9 button.colab-df-convert');\n",
              "        buttonEl.style.display =\n",
              "          google.colab.kernel.accessAllowed ? 'block' : 'none';\n",
              "\n",
              "        async function convertToInteractive(key) {\n",
              "          const element = document.querySelector('#df-2d513925-4e79-4601-bfe3-f29789aee4e9');\n",
              "          const dataTable =\n",
              "            await google.colab.kernel.invokeFunction('convertToInteractive',\n",
              "                                                     [key], {});\n",
              "          if (!dataTable) return;\n",
              "\n",
              "          const docLinkHtml = 'Like what you see? Visit the ' +\n",
              "            '<a target=\"_blank\" href=https://colab.research.google.com/notebooks/data_table.ipynb>data table notebook</a>'\n",
              "            + ' to learn more about interactive tables.';\n",
              "          element.innerHTML = '';\n",
              "          dataTable['output_type'] = 'display_data';\n",
              "          await google.colab.output.renderOutput(dataTable, element);\n",
              "          const docLink = document.createElement('div');\n",
              "          docLink.innerHTML = docLinkHtml;\n",
              "          element.appendChild(docLink);\n",
              "        }\n",
              "      </script>\n",
              "    </div>\n",
              "  </div>\n",
              "  "
            ]
          },
          "metadata": {},
          "execution_count": 25
        }
      ]
    },
    {
      "cell_type": "code",
      "source": [
        "df['proj_type'].value_counts()"
      ],
      "metadata": {
        "colab": {
          "base_uri": "https://localhost:8080/"
        },
        "id": "kNWcb9xL3FNf",
        "outputId": "19a64e94-4a68-46ae-d0a3-45f3ee08e884"
      },
      "execution_count": null,
      "outputs": [
        {
          "output_type": "execute_result",
          "data": {
            "text/plain": [
              "0    3767\n",
              "A     568\n",
              "B     262\n",
              "C     159\n",
              "D      49\n",
              "E      42\n",
              "Name: proj_type, dtype: int64"
            ]
          },
          "metadata": {},
          "execution_count": 29
        }
      ]
    },
    {
      "cell_type": "code",
      "source": [],
      "metadata": {
        "id": "1BoQCfck6iTW"
      },
      "execution_count": null,
      "outputs": []
    }
  ]
}